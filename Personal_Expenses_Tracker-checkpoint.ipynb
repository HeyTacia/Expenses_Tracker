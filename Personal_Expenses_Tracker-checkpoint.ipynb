{
 "cells": [
  {
   "cell_type": "markdown",
   "id": "6d0ca2f4-eaf7-4e1a-8967-d9fcd765168f",
   "metadata": {},
   "source": [
    "## What are we tracking??"
   ]
  },
  {
   "cell_type": "code",
   "execution_count": null,
   "id": "a217a479-b97a-4fb4-9d8a-7e1f9c66589d",
   "metadata": {},
   "outputs": [],
   "source": [
    "Create variables "
   ]
  },
  {
   "cell_type": "code",
   "execution_count": 185,
   "id": "d2bd2790-b74a-4293-94c2-12623b5e44fd",
   "metadata": {},
   "outputs": [],
   "source": [
    "user = \"Tacia\" #str\n",
    "current_month = \"August 2025\"   #str\n",
    "currency = \"$\"  #str\n",
    "budget = 500.00 #float\n",
    "number_of_days_in_month = 31 #int\n",
    "is_budget_set = True  #boolean"
   ]
  },
  {
   "cell_type": "code",
   "execution_count": null,
   "id": "e22b0e3f-8039-4321-9bd5-9f8aa46a7095",
   "metadata": {},
   "outputs": [],
   "source": []
  },
  {
   "cell_type": "code",
   "execution_count": 186,
   "id": "a2fc78fe-8522-459a-8082-1408fbdc3633",
   "metadata": {},
   "outputs": [
    {
     "name": "stdout",
     "output_type": "stream",
     "text": [
      "Hello Tacia\n"
     ]
    }
   ],
   "source": [
    "print (\"Hello\", user)"
   ]
  },
  {
   "cell_type": "code",
   "execution_count": 41,
   "id": "6541b324-35e4-4599-be4f-7343b0705936",
   "metadata": {},
   "outputs": [
    {
     "name": "stdout",
     "output_type": "stream",
     "text": [
      "Budget for August 2025 : 500.0\n"
     ]
    }
   ],
   "source": [
    "print ('Budget for', current_month, ':', budget)"
   ]
  },
  {
   "cell_type": "markdown",
   "id": "9a61f73a-d811-449a-8fdb-e7a131799320",
   "metadata": {},
   "source": [
    "### A single expense"
   ]
  },
  {
   "cell_type": "code",
   "execution_count": 45,
   "id": "def14355-a4b4-471e-993b-45234d2adafd",
   "metadata": {},
   "outputs": [],
   "source": [
    "item = 'rent'\n",
    "amount = 200.00\n",
    "category = 'Housing'\n",
    "is_necessary = True"
   ]
  },
  {
   "cell_type": "code",
   "execution_count": 93,
   "id": "2a1cbb09-27e1-419a-aad6-9151a1bbfb71",
   "metadata": {},
   "outputs": [],
   "source": [
    "closing_balance = budget - amount"
   ]
  },
  {
   "cell_type": "code",
   "execution_count": 96,
   "id": "58413e05-a6c1-4ed1-a57c-37408e5a0eb6",
   "metadata": {},
   "outputs": [
    {
     "name": "stdout",
     "output_type": "stream",
     "text": [
      "300.0\n"
     ]
    }
   ],
   "source": [
    "print(closing_balance)"
   ]
  },
  {
   "cell_type": "code",
   "execution_count": null,
   "id": "7215a0ac-156c-4a81-b82f-92fc3f7671b3",
   "metadata": {},
   "outputs": [],
   "source": []
  },
  {
   "cell_type": "code",
   "execution_count": null,
   "id": "6b332cb6-8174-4c58-a6c2-171197ce5ca0",
   "metadata": {},
   "outputs": [],
   "source": []
  },
  {
   "cell_type": "code",
   "execution_count": 154,
   "id": "e41f267f-2c60-47af-b19a-25da1ddadd77",
   "metadata": {},
   "outputs": [],
   "source": [
    "items = [\"Rent\",\"Electricity\",\"Clothes\",\"Data bundles\",\"KFC\",\"Netflix\"]\n",
    "prices = [200.00, 40.00, 50.00,20.00, 10,15]\n",
    "categories = [\"Housing\", \"Electricity\",\"Basic\", \"Utility\",\"Food\",\"Entertainment\"]\n",
    "necessary = [\"True\", \"True\", \"True\",\"True\",\"False\", \"False\"]"
   ]
  },
  {
   "cell_type": "code",
   "execution_count": 150,
   "id": "6a8a30a3-fe73-4708-b614-038fd69dbf26",
   "metadata": {},
   "outputs": [
    {
     "data": {
      "text/plain": [
       "list"
      ]
     },
     "execution_count": 150,
     "metadata": {},
     "output_type": "execute_result"
    }
   ],
   "source": [
    "type(items)"
   ]
  },
  {
   "cell_type": "code",
   "execution_count": 155,
   "id": "91ed7d16-813b-4b0f-b11d-70184ccefaf5",
   "metadata": {},
   "outputs": [
    {
     "data": {
      "text/plain": [
       "[200.0, 40.0, 50.0, 20.0, 10, 15]"
      ]
     },
     "execution_count": 155,
     "metadata": {},
     "output_type": "execute_result"
    }
   ],
   "source": [
    "prices"
   ]
  },
  {
   "cell_type": "code",
   "execution_count": 158,
   "id": "3f23d3fd-f3d0-4fbc-a7c0-a76a7c821316",
   "metadata": {},
   "outputs": [
    {
     "data": {
      "text/plain": [
       "335.0"
      ]
     },
     "execution_count": 158,
     "metadata": {},
     "output_type": "execute_result"
    }
   ],
   "source": [
    "prices[0] +prices[1]+ prices[2]+prices[3]+prices[4]+prices[5]"
   ]
  },
  {
   "cell_type": "code",
   "execution_count": 160,
   "id": "14495fc0-fbec-4fac-98ac-e7a3ad0a3742",
   "metadata": {},
   "outputs": [],
   "source": [
    "total_expenses = sum(prices)"
   ]
  },
  {
   "cell_type": "code",
   "execution_count": 161,
   "id": "68ad5044-bde4-405d-96fb-88833095e83d",
   "metadata": {},
   "outputs": [
    {
     "name": "stdout",
     "output_type": "stream",
     "text": [
      "335.0\n"
     ]
    }
   ],
   "source": [
    "print(total_expenses)"
   ]
  },
  {
   "cell_type": "code",
   "execution_count": 167,
   "id": "2006f9fa-5bca-45a6-938f-9dc89af8eec3",
   "metadata": {},
   "outputs": [
    {
     "data": {
      "text/plain": [
       "165.0"
      ]
     },
     "execution_count": 167,
     "metadata": {},
     "output_type": "execute_result"
    }
   ],
   "source": [
    "balance = budget - total_expenses\n",
    "balance"
   ]
  },
  {
   "cell_type": "code",
   "execution_count": 173,
   "id": "dd555e35-88a1-449e-adb1-2ce650e035c5",
   "metadata": {},
   "outputs": [
    {
     "data": {
      "text/plain": [
       "6"
      ]
     },
     "execution_count": 173,
     "metadata": {},
     "output_type": "execute_result"
    }
   ],
   "source": [
    "number_of_items = len(items)\n",
    "number_of_items"
   ]
  },
  {
   "cell_type": "code",
   "execution_count": null,
   "id": "93525502-0c55-4b22-a465-244d9c8f7228",
   "metadata": {},
   "outputs": [],
   "source": []
  },
  {
   "cell_type": "code",
   "execution_count": null,
   "id": "af4c2079-a07d-4598-9016-114194d6e96c",
   "metadata": {},
   "outputs": [],
   "source": []
  },
  {
   "cell_type": "code",
   "execution_count": 187,
   "id": "87cc685d-23b2-486a-8c96-5f14e4d82417",
   "metadata": {},
   "outputs": [
    {
     "name": "stdout",
     "output_type": "stream",
     "text": [
      "========================================\n",
      "             Expenses Tracker\n",
      "========================================\n",
      "Owner                 Tacia\n",
      "period                August 2025\n",
      "----------------------------------------\n",
      "currency              $\n",
      "starting balance      500.0\n",
      "total expenses        335.0\n",
      "----------------------------------------\n",
      "closing_balance       165.0\n",
      "Transactions          6\n",
      "========================================\n",
      "           See You Next Time\n",
      "========================================\n"
     ]
    }
   ],
   "source": [
    "print(\"=\" * 40)\n",
    "print(\"             Expenses Tracker\")\n",
    "print (\"=\" * 40)\n",
    "print(\"Owner\", '               ',user)\n",
    "print(\"period\", '              ',current_month)\n",
    "print(\"-\" * 40)\n",
    "print(\"currency\",  '            ',currency)\n",
    "print(\"starting balance\",'    ', budget)\n",
    "print(\"total expenses\",'      ', total_expenses)\n",
    "print (\"-\" * 40)\n",
    "print(\"closing_balance\",'     ', balance)\n",
    "print(\"Transactions\",'        ', number_of_items)\n",
    "print(\"=\" * 40)\n",
    "print(\"           See You Next Time\")\n",
    "print(\"=\" * 40)"
   ]
  },
  {
   "cell_type": "code",
   "execution_count": null,
   "id": "765b91f9-39a9-4b6a-99dc-99d9e2fa8681",
   "metadata": {},
   "outputs": [],
   "source": []
  },
  {
   "cell_type": "code",
   "execution_count": null,
   "id": "4912ef8f-043a-4d3a-a9f8-2336b6bfe584",
   "metadata": {},
   "outputs": [],
   "source": []
  },
  {
   "cell_type": "code",
   "execution_count": null,
   "id": "f256b680-147c-482a-8a7b-fd25f5bb93a4",
   "metadata": {},
   "outputs": [],
   "source": []
  },
  {
   "cell_type": "code",
   "execution_count": null,
   "id": "cd1b6a52-b9ae-4e4a-8f99-7fcb4536949a",
   "metadata": {},
   "outputs": [],
   "source": []
  },
  {
   "cell_type": "code",
   "execution_count": null,
   "id": "e172498c-1694-480a-a2c7-f9961e607dc3",
   "metadata": {},
   "outputs": [],
   "source": []
  },
  {
   "cell_type": "code",
   "execution_count": null,
   "id": "4ad2ddf8-c3fb-4832-a773-abd153855d10",
   "metadata": {},
   "outputs": [],
   "source": []
  },
  {
   "cell_type": "code",
   "execution_count": null,
   "id": "c9541d1e-4436-4eec-ac20-6c598a441641",
   "metadata": {},
   "outputs": [],
   "source": []
  },
  {
   "cell_type": "code",
   "execution_count": null,
   "id": "4b1c7ad4-be83-43d3-8f81-48816e086f51",
   "metadata": {},
   "outputs": [],
   "source": []
  },
  {
   "cell_type": "code",
   "execution_count": null,
   "id": "030d5c57-90db-48e0-b99e-e11387f4e420",
   "metadata": {},
   "outputs": [],
   "source": []
  }
 ],
 "metadata": {
  "kernelspec": {
   "display_name": "Python 3 (ipykernel)",
   "language": "python",
   "name": "python3"
  },
  "language_info": {
   "codemirror_mode": {
    "name": "ipython",
    "version": 3
   },
   "file_extension": ".py",
   "mimetype": "text/x-python",
   "name": "python",
   "nbconvert_exporter": "python",
   "pygments_lexer": "ipython3",
   "version": "3.12.9"
  }
 },
 "nbformat": 4,
 "nbformat_minor": 5
}
